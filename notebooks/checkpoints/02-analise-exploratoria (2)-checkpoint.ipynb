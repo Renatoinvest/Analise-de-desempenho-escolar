{
 "cells": [
  {
   "cell_type": "markdown",
   "id": "cfbd3d3a",
   "metadata": {},
   "source": [
    "# Análise Exploratória de Dados (EDA)\n",
    "Este notebook tem como objetivo realizar uma análise exploratória de dados (EDA) a partir de um conjunto de dados bruto.\n",
    "Serão realizadas as seguintes etapas:\n",
    "- Importação de bibliotecas\n",
    "- Carregamento dos dados\n",
    "- Entendimento geral do dataset\n",
    "- Limpeza e tratamento\n",
    "- Análises estatísticas e visuais\n",
    "- Insights iniciais"
   ]
  },
  {
   "cell_type": "code",
   "execution_count": null,
   "id": "3d3664d6",
   "metadata": {},
   "outputs": [],
   "source": [
    "# Importando bibliotecas essenciais\n",
    "import pandas as pd\n",
    "import numpy as np\n",
    "import matplotlib.pyplot as plt\n",
    "import seaborn as sns\n",
    "\n",
    "# Configuração de estilo dos gráficos\n",
    "sns.set(style='whitegrid')\n",
    "plt.rcParams['figure.figsize'] = (10, 6)"
   ]
  },
  {
   "cell_type": "code",
   "execution_count": null,
   "id": "94369f99",
   "metadata": {},
   "outputs": [],
   "source": [
    "# Carregando o dataset\n",
    "# Substitua 'seu_arquivo.csv' pelo caminho correto\n",
    "df = pd.read_csv('seu_arquivo.csv')\n",
    "df.head()"
   ]
  },
  {
   "cell_type": "markdown",
   "id": "440bb436",
   "metadata": {},
   "source": [
    "## Informações gerais do dataset"
   ]
  },
  {
   "cell_type": "code",
   "execution_count": null,
   "id": "f1359864",
   "metadata": {},
   "outputs": [],
   "source": [
    "df.info()"
   ]
  },
  {
   "cell_type": "code",
   "execution_count": null,
   "id": "2a624356",
   "metadata": {},
   "outputs": [],
   "source": [
    "df.describe(include='all')"
   ]
  },
  {
   "cell_type": "markdown",
   "id": "d44dc463",
   "metadata": {},
   "source": [
    "## Verificando valores ausentes"
   ]
  },
  {
   "cell_type": "code",
   "execution_count": null,
   "id": "98198931",
   "metadata": {},
   "outputs": [],
   "source": [
    "df.isnull().sum().sort_values(ascending=False)"
   ]
  },
  {
   "cell_type": "markdown",
   "id": "529ac402",
   "metadata": {},
   "source": [
    "## Análise gráfica inicial"
   ]
  },
  {
   "cell_type": "code",
   "execution_count": null,
   "id": "0f0a0e80",
   "metadata": {},
   "outputs": [],
   "source": [
    "# Histograma geral\n",
    "df.hist(bins=20, figsize=(15, 10))\n",
    "plt.tight_layout()\n",
    "plt.show()"
   ]
  },
  {
   "cell_type": "code",
   "execution_count": null,
   "id": "891b883a",
   "metadata": {},
   "outputs": [],
   "source": [
    "# Mapa de calor de correlação\n",
    "corr = df.corr(numeric_only=True)\n",
    "sns.heatmap(corr, annot=True, cmap='coolwarm')\n",
    "plt.title('Mapa de Correlação entre Variáveis')\n",
    "plt.show()"
   ]
  }
 ],
 "metadata": {
  "kernelspec": {
   "display_name": "Python 3",
   "language": "python",
   "name": "python3"
  },
  "language_info": {
   "name": "python",
   "version": "3.11"
  }
 },
 "nbformat": 4,
 "nbformat_minor": 5
}
